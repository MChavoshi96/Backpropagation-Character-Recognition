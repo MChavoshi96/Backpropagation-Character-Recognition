{
 "cells": [
  {
   "cell_type": "code",
   "execution_count": 1,
   "metadata": {},
   "outputs": [],
   "source": [
    "import numpy as np\n",
    "import math as math\n",
    "import matplotlib.pyplot as plt\n",
    "import pylab"
   ]
  },
  {
   "cell_type": "code",
   "execution_count": 2,
   "metadata": {},
   "outputs": [],
   "source": [
    "a = np.array ([ [-1,-1, 1, 1,-1,-1,-1],\n",
    "                [-1,-1,-1, 1,-1,-1,-1],\n",
    "                [-1,-1,-1, 1,-1,-1,-1],\n",
    "                [-1,-1, 1,-1, 1,-1,-1],\n",
    "                [-1,-1, 1,-1, 1,-1,-1],\n",
    "                [-1, 1, 1, 1, 1, 1,-1],\n",
    "                [-1, 1,-1,-1,-1, 1,-1],\n",
    "                [ 1, 1, 1,-1, 1, 1, 1],\n",
    "                [-1,-1,-1,-1,-1,-1,-1]])\n",
    "\n",
    "b = np.array ([ [ 1, 1, 1, 1, 1,-1,-1],\n",
    "                [-1, 1,-1,-1,-1, 1,-1],\n",
    "                [-1, 1,-1,-1,-1, 1,-1],\n",
    "                [-1, 1, 1, 1, 1,-1,-1],\n",
    "                [-1, 1,-1,-1,-1, 1,-1],\n",
    "                [-1, 1,-1,-1,-1, 1,-1],\n",
    "                [-1, 1,-1,-1,-1, 1,-1],\n",
    "                [ 1, 1, 1, 1, 1,-1,-1],\n",
    "                [-1,-1,-1,-1,-1,-1,-1]])\n",
    "\n",
    "c = np.array ([ [-1,-1, 1, 1, 1, 1,-1],\n",
    "                [-1, 1,-1,-1,-1, 1,-1],\n",
    "                [ 1,-1,-1,-1,-1,-1,-1],\n",
    "                [ 1,-1,-1,-1,-1,-1,-1],\n",
    "                [ 1,-1,-1,-1,-1,-1,-1],\n",
    "                [ 1,-1,-1,-1,-1,-1,-1],\n",
    "                [-1, 1,-1,-1,-1, 1,-1],\n",
    "                [-1,-1, 1, 1, 1,-1,-1],\n",
    "                [-1,-1,-1,-1,-1,-1,-1]])\n",
    "\n",
    "d = np.array ([ [ 1, 1, 1, 1,-1,-1,-1],\n",
    "                [-1, 1,-1,-1, 1,-1,-1],\n",
    "                [-1, 1,-1,-1,-1, 1,-1],\n",
    "                [-1, 1,-1,-1,-1, 1,-1],\n",
    "                [-1, 1,-1,-1,-1, 1,-1],\n",
    "                [-1, 1,-1,-1,-1, 1,-1],\n",
    "                [-1, 1,-1,-1, 1,-1,-1],\n",
    "                [ 1, 1, 1, 1,-1,-1,-1],\n",
    "                [-1,-1,-1,-1,-1,-1,-1]])\n",
    "\n",
    "\n",
    "e = np.array ([ [ 1, 1, 1, 1, 1, 1,-1],\n",
    "                [-1, 1,-1,-1,-1, 1,-1],\n",
    "                [-1, 1,-1, 1,-1,-1,-1],\n",
    "                [-1, 1, 1, 1,-1,-1,-1],\n",
    "                [-1, 1,-1, 1,-1,-1,-1],\n",
    "                [-1, 1,-1,-1,-1,-1,-1],\n",
    "                [-1, 1,-1,-1,-1, 1,-1],\n",
    "                [ 1, 1, 1, 1, 1, 1,-1],\n",
    "                [-1,-1,-1,-1,-1,-1,-1]])\n",
    "\n",
    "f = np.array ([ [ 1, 1, 1, 1, 1, 1,-1],\n",
    "                [-1, 1,-1,-1,-1, 1,-1],\n",
    "                [-1, 1,-1, 1,-1,-1,-1],\n",
    "                [-1, 1, 1, 1,-1,-1,-1],\n",
    "                [-1, 1,-1, 1,-1,-1,-1],\n",
    "                [-1, 1,-1,-1,-1,-1,-1],\n",
    "                [-1, 1,-1,-1,-1,-1,-1],\n",
    "                [ 1, 1, 1, 1,-1,-1,-1],\n",
    "                [-1,-1,-1,-1,-1,-1,-1]])\n",
    "\n",
    "g = np.array ([ [-1,-1, 1, 1, 1, 1,-1],\n",
    "                [-1, 1,-1,-1,-1, 1,-1],\n",
    "                [ 1,-1,-1,-1,-1,-1,-1],\n",
    "                [ 1,-1,-1,-1,-1,-1,-1],\n",
    "                [ 1,-1,-1,-1, 1, 1, 1],\n",
    "                [ 1,-1,-1,-1,-1, 1,-1],\n",
    "                [-1, 1,-1,-1,-1, 1,-1],\n",
    "                [-1,-1, 1, 1, 1,-1,-1],\n",
    "                [-1,-1,-1,-1,-1,-1,-1]])\n",
    "\n",
    "h = np.array ([ [ 1, 1, 1,-1, 1, 1, 1],\n",
    "                [-1, 1,-1,-1,-1, 1,-1],\n",
    "                [-1, 1,-1,-1,-1, 1,-1],\n",
    "                [-1, 1, 1, 1, 1, 1,-1],\n",
    "                [-1, 1,-1,-1,-1, 1,-1],\n",
    "                [-1, 1,-1,-1,-1, 1,-1],\n",
    "                [-1, 1,-1,-1,-1, 1,-1],\n",
    "                [ 1, 1, 1,-1, 1, 1, 1],\n",
    "                [-1,-1,-1,-1,-1,-1,-1]])\n",
    "\n",
    "i = np.array ([ [-1, 1, 1, 1, 1, 1,-1],\n",
    "                [-1,-1,-1, 1,-1,-1,-1],\n",
    "                [-1,-1,-1, 1,-1,-1,-1],\n",
    "                [-1,-1,-1, 1,-1,-1,-1],\n",
    "                [-1,-1,-1, 1,-1,-1,-1],\n",
    "                [-1,-1,-1, 1,-1,-1,-1],\n",
    "                [-1,-1,-1, 1,-1,-1,-1],\n",
    "                [-1, 1, 1, 1, 1, 1,-1],\n",
    "                [-1,-1,-1,-1,-1,-1,-1]])\n",
    "\n",
    "\n",
    "j = np.array ([ [-1,-1, 1, 1, 1, 1,-1],\n",
    "                [-1,-1,-1,-1, 1,-1,-1],\n",
    "                [-1,-1,-1,-1, 1,-1,-1],\n",
    "                [-1,-1,-1,-1, 1,-1,-1],\n",
    "                [-1,-1,-1,-1, 1,-1,-1],\n",
    "                [ 1,-1,-1,-1, 1,-1,-1],\n",
    "                [ 1,-1,-1,-1, 1,-1,-1],\n",
    "                [-1, 1, 1, 1,-1,-1,-1],\n",
    "                [-1,-1,-1,-1,-1,-1,-1]])\n",
    "\n",
    "\n",
    "a = np.reshape(a, (1,63))[0]\n",
    "b = np.reshape(b, (1,63))[0]\n",
    "c = np.reshape(c, (1,63))[0]\n",
    "d = np.reshape(d, (1,63))[0]\n",
    "e = np.reshape(e, (1,63))[0]\n",
    "f = np.reshape(f, (1,63))[0]\n",
    "g = np.reshape(g, (1,63))[0]\n",
    "h = np.reshape(h, (1,63))[0]\n",
    "i = np.reshape(i, (1,63))[0]\n",
    "j = np.reshape(j, (1,63))[0]\n",
    "\n",
    "X = [a, b, c, d, e, f, g, h, i, j]"
   ]
  },
  {
   "cell_type": "code",
   "execution_count": 3,
   "metadata": {},
   "outputs": [],
   "source": [
    "def generate_random_weights (row_count , col_count):\n",
    "    W = np.random.random_sample( size = (row_count, col_count))\n",
    "    W = W - 0.5\n",
    "    return np.mat(W)"
   ]
  },
  {
   "cell_type": "code",
   "execution_count": 4,
   "metadata": {},
   "outputs": [],
   "source": [
    "def activation(array, mode):\n",
    "    if (mode == 'binary'):\n",
    "        return binary_sig(array)\n",
    "    elif mode == 'bipolar':\n",
    "        return bipolar_sig(array)"
   ]
  },
  {
   "cell_type": "code",
   "execution_count": 5,
   "metadata": {},
   "outputs": [],
   "source": [
    "def act_derivative (array, mode):\n",
    "    if mode == 'binary':\n",
    "        return binary_sig_derivative(array)\n",
    "    elif mode == 'bipolar':\n",
    "        return bipolar_sig_derivative(array)"
   ]
  },
  {
   "cell_type": "code",
   "execution_count": 6,
   "metadata": {},
   "outputs": [],
   "source": [
    "def binary_sig(array):\n",
    "    return np.mat(1/(1 + np.exp(-array)))"
   ]
  },
  {
   "cell_type": "code",
   "execution_count": 7,
   "metadata": {},
   "outputs": [],
   "source": [
    "def bipolar_sig(array):\n",
    "    return np.mat(1 - np.exp(-array))/(1 + np.exp(-array))"
   ]
  },
  {
   "cell_type": "code",
   "execution_count": 8,
   "metadata": {},
   "outputs": [],
   "source": [
    "def binary_sig_derivative(array):\n",
    "    return np.mat(np.multiply(binary_sig(array),(1 - binary_sig(array))))"
   ]
  },
  {
   "cell_type": "code",
   "execution_count": 9,
   "metadata": {},
   "outputs": [],
   "source": [
    "def bipolar_sig_derivative(array):\n",
    "    return np.mat(0.5*np.multiply(1+ bipolar_sig(array),1 - bipolar_sig(array)))"
   ]
  },
  {
   "cell_type": "code",
   "execution_count": 16,
   "metadata": {},
   "outputs": [],
   "source": [
    "def train_one_sample(sample, target, V, W, alpha, mode):\n",
    "    X = np.append(sample,1)\n",
    "    X = np.mat(X)\n",
    "    X = X.T\n",
    "    tar = np.mat(target)\n",
    "    tar = tar.T\n",
    "    \n",
    "    # feedforward phase\n",
    "    Z_in = np.dot(V.T, X) #z_in: 4*1\n",
    "    Z = activation(Z_in, mode) # Z: 4*1\n",
    "    Z = np.vstack([Z, [1]]) # output layer bias Z: 5*1\n",
    "    \n",
    "    Y_in = np.dot(W.T, Z) #Y_in: 63*1\n",
    "    Y = activation(Y_in, mode) #Y: 63*1\n",
    "    \n",
    "    # calculation of errors\n",
    "    # delta is the hidden layer error\n",
    "    # mu is the output layre error\n",
    "\n",
    "    c = tar - Y\n",
    "    d = act_derivative(Y_in, mode)\n",
    "    delta = np.multiply(c, d) # delta: 1*1\n",
    "    \n",
    "    W_nobias = W[:W.shape[0]-1]\n",
    "    a = np.dot(W_nobias, delta)\n",
    "    b = act_derivative(Z_in, mode)\n",
    "    mu = np.multiply(a,b) #mu: 4*1\n",
    "    mu = np.mat(mu)\n",
    "    # update weights\n",
    "    deltaW = alpha* (np.dot(Z, delta.T)) # 5*1\n",
    "    deltaV = alpha* (np.dot(X, mu.T)) # 3*4\n",
    "    W = W + deltaW\n",
    "    V = V + deltaV\n",
    "    E = (Y - tar)\n",
    "    E = np.array(E)\n",
    "    E = E ** 2\n",
    "    return np.array([V, W, E, np.array(Y)])\n",
    "                 "
   ]
  },
  {
   "cell_type": "code",
   "execution_count": 14,
   "metadata": {},
   "outputs": [],
   "source": [
    "def train(samples, targets, input_count, hidden_count , output_count, error, alpha, mode = 'bipolar'):\n",
    "    \n",
    "    V = generate_random_weights(input_count+1, hidden_count)\n",
    "    W = generate_random_weights(hidden_count+1, output_count)\n",
    "\n",
    "    cnt = 0\n",
    "    while (True):\n",
    "        cnt = cnt + 1\n",
    "        E = 0\n",
    "        for i in range(len(samples)):\n",
    "            res = train_one_sample(samples[i], targets[i], V, W, alpha, mode)\n",
    "            V = res[0]\n",
    "            W = res[1]\n",
    "            Y = res[3]\n",
    "            E = E + res[2]\n",
    "        if (all(e < error for e in E)):\n",
    "            break\n",
    "        \n",
    "#     print('iterations passed: ', cnt)\n",
    "#     print('Final Error\\n', E)\n",
    "#     print('Final Y\\n', Y)\n",
    "#     return np.array([V, W])\n",
    "    return cnt"
   ]
  },
  {
   "cell_type": "code",
   "execution_count": 17,
   "metadata": {},
   "outputs": [
    {
     "ename": "KeyboardInterrupt",
     "evalue": "",
     "output_type": "error",
     "traceback": [
      "\u001b[0;31m---------------------------------------------------------------------------\u001b[0m",
      "\u001b[0;31mKeyboardInterrupt\u001b[0m                         Traceback (most recent call last)",
      "\u001b[0;32m<ipython-input-17-adc1e2bb37a4>\u001b[0m in \u001b[0;36m<module>\u001b[0;34m()\u001b[0m\n\u001b[0;32m----> 1\u001b[0;31m \u001b[0mtrain\u001b[0m\u001b[0;34m(\u001b[0m\u001b[0mX\u001b[0m\u001b[0;34m,\u001b[0m \u001b[0mX\u001b[0m\u001b[0;34m,\u001b[0m \u001b[0;36m63\u001b[0m\u001b[0;34m,\u001b[0m \u001b[0;36m8\u001b[0m\u001b[0;34m,\u001b[0m \u001b[0;36m63\u001b[0m\u001b[0;34m,\u001b[0m \u001b[0;36m0.2\u001b[0m\u001b[0;34m,\u001b[0m \u001b[0;36m0.2\u001b[0m\u001b[0;34m,\u001b[0m \u001b[0;34m'bipolar'\u001b[0m\u001b[0;34m)\u001b[0m\u001b[0;34m\u001b[0m\u001b[0;34m\u001b[0m\u001b[0m\n\u001b[0m",
      "\u001b[0;32m<ipython-input-14-6c88c768b515>\u001b[0m in \u001b[0;36mtrain\u001b[0;34m(samples, targets, input_count, hidden_count, output_count, error, alpha, mode)\u001b[0m\n\u001b[1;32m      9\u001b[0m         \u001b[0mE\u001b[0m \u001b[0;34m=\u001b[0m \u001b[0;36m0\u001b[0m\u001b[0;34m\u001b[0m\u001b[0;34m\u001b[0m\u001b[0m\n\u001b[1;32m     10\u001b[0m         \u001b[0;32mfor\u001b[0m \u001b[0mi\u001b[0m \u001b[0;32min\u001b[0m \u001b[0mrange\u001b[0m\u001b[0;34m(\u001b[0m\u001b[0mlen\u001b[0m\u001b[0;34m(\u001b[0m\u001b[0msamples\u001b[0m\u001b[0;34m)\u001b[0m\u001b[0;34m)\u001b[0m\u001b[0;34m:\u001b[0m\u001b[0;34m\u001b[0m\u001b[0;34m\u001b[0m\u001b[0m\n\u001b[0;32m---> 11\u001b[0;31m             \u001b[0mres\u001b[0m \u001b[0;34m=\u001b[0m \u001b[0mtrain_one_sample\u001b[0m\u001b[0;34m(\u001b[0m\u001b[0msamples\u001b[0m\u001b[0;34m[\u001b[0m\u001b[0mi\u001b[0m\u001b[0;34m]\u001b[0m\u001b[0;34m,\u001b[0m \u001b[0mtargets\u001b[0m\u001b[0;34m[\u001b[0m\u001b[0mi\u001b[0m\u001b[0;34m]\u001b[0m\u001b[0;34m,\u001b[0m \u001b[0mV\u001b[0m\u001b[0;34m,\u001b[0m \u001b[0mW\u001b[0m\u001b[0;34m,\u001b[0m \u001b[0malpha\u001b[0m\u001b[0;34m,\u001b[0m \u001b[0mmode\u001b[0m\u001b[0;34m)\u001b[0m\u001b[0;34m\u001b[0m\u001b[0;34m\u001b[0m\u001b[0m\n\u001b[0m\u001b[1;32m     12\u001b[0m             \u001b[0mV\u001b[0m \u001b[0;34m=\u001b[0m \u001b[0mres\u001b[0m\u001b[0;34m[\u001b[0m\u001b[0;36m0\u001b[0m\u001b[0;34m]\u001b[0m\u001b[0;34m\u001b[0m\u001b[0;34m\u001b[0m\u001b[0m\n\u001b[1;32m     13\u001b[0m             \u001b[0mW\u001b[0m \u001b[0;34m=\u001b[0m \u001b[0mres\u001b[0m\u001b[0;34m[\u001b[0m\u001b[0;36m1\u001b[0m\u001b[0;34m]\u001b[0m\u001b[0;34m\u001b[0m\u001b[0;34m\u001b[0m\u001b[0m\n",
      "\u001b[0;32m<ipython-input-16-966153d44b0e>\u001b[0m in \u001b[0;36mtrain_one_sample\u001b[0;34m(sample, target, V, W, alpha, mode)\u001b[0m\n\u001b[1;32m     14\u001b[0m \u001b[0;31m#     print('Zin is:\\n', Z_in)\u001b[0m\u001b[0;34m\u001b[0m\u001b[0;34m\u001b[0m\u001b[0;34m\u001b[0m\u001b[0m\n\u001b[1;32m     15\u001b[0m     \u001b[0mZ\u001b[0m \u001b[0;34m=\u001b[0m \u001b[0mactivation\u001b[0m\u001b[0;34m(\u001b[0m\u001b[0mZ_in\u001b[0m\u001b[0;34m,\u001b[0m \u001b[0mmode\u001b[0m\u001b[0;34m)\u001b[0m \u001b[0;31m# Z: 4*1\u001b[0m\u001b[0;34m\u001b[0m\u001b[0;34m\u001b[0m\u001b[0m\n\u001b[0;32m---> 16\u001b[0;31m     \u001b[0mZ\u001b[0m \u001b[0;34m=\u001b[0m \u001b[0mnp\u001b[0m\u001b[0;34m.\u001b[0m\u001b[0mvstack\u001b[0m\u001b[0;34m(\u001b[0m\u001b[0;34m[\u001b[0m\u001b[0mZ\u001b[0m\u001b[0;34m,\u001b[0m \u001b[0;34m[\u001b[0m\u001b[0;36m1\u001b[0m\u001b[0;34m]\u001b[0m\u001b[0;34m]\u001b[0m\u001b[0;34m)\u001b[0m \u001b[0;31m# output layer bias Z: 5*1\u001b[0m\u001b[0;34m\u001b[0m\u001b[0;34m\u001b[0m\u001b[0m\n\u001b[0m\u001b[1;32m     17\u001b[0m \u001b[0;31m#     print('Z is:\\n', Z)\u001b[0m\u001b[0;34m\u001b[0m\u001b[0;34m\u001b[0m\u001b[0;34m\u001b[0m\u001b[0m\n\u001b[1;32m     18\u001b[0m \u001b[0;34m\u001b[0m\u001b[0m\n",
      "\u001b[0;32mf:\\python37\\lib\\site-packages\\numpy\\core\\shape_base.py\u001b[0m in \u001b[0;36mvstack\u001b[0;34m(tup)\u001b[0m\n\u001b[1;32m    281\u001b[0m     \"\"\"\n\u001b[1;32m    282\u001b[0m     \u001b[0m_warn_for_nonsequence\u001b[0m\u001b[0;34m(\u001b[0m\u001b[0mtup\u001b[0m\u001b[0;34m)\u001b[0m\u001b[0;34m\u001b[0m\u001b[0;34m\u001b[0m\u001b[0m\n\u001b[0;32m--> 283\u001b[0;31m     \u001b[0;32mreturn\u001b[0m \u001b[0m_nx\u001b[0m\u001b[0;34m.\u001b[0m\u001b[0mconcatenate\u001b[0m\u001b[0;34m(\u001b[0m\u001b[0;34m[\u001b[0m\u001b[0matleast_2d\u001b[0m\u001b[0;34m(\u001b[0m\u001b[0m_m\u001b[0m\u001b[0;34m)\u001b[0m \u001b[0;32mfor\u001b[0m \u001b[0m_m\u001b[0m \u001b[0;32min\u001b[0m \u001b[0mtup\u001b[0m\u001b[0;34m]\u001b[0m\u001b[0;34m,\u001b[0m \u001b[0;36m0\u001b[0m\u001b[0;34m)\u001b[0m\u001b[0;34m\u001b[0m\u001b[0;34m\u001b[0m\u001b[0m\n\u001b[0m\u001b[1;32m    284\u001b[0m \u001b[0;34m\u001b[0m\u001b[0m\n\u001b[1;32m    285\u001b[0m \u001b[0;34m\u001b[0m\u001b[0m\n",
      "\u001b[0;31mKeyboardInterrupt\u001b[0m: "
     ]
    }
   ],
   "source": [
    "train(X, X, 63, 8, 63, 0.2, 0.2)"
   ]
  },
  {
   "cell_type": "code",
   "execution_count": 246,
   "metadata": {},
   "outputs": [],
   "source": [
    "hidden = [10,15,20,25,30]"
   ]
  },
  {
   "cell_type": "code",
   "execution_count": 250,
   "metadata": {},
   "outputs": [],
   "source": [
    "f1 = lambda x: train(X, X, 63, x, 63, 0.1, 0.2)\n",
    "f2 = lambda x: train(X, X, 63, x, 63, 0.2, 0.2)\n",
    "epochs1 = np.array([f1(xi) for xi in hidden])\n"
   ]
  },
  {
   "cell_type": "code",
   "execution_count": 248,
   "metadata": {},
   "outputs": [],
   "source": [
    "epochs2 = np.array([f2(xi) for xi in hidden])"
   ]
  },
  {
   "cell_type": "code",
   "execution_count": 240,
   "metadata": {},
   "outputs": [
    {
     "data": {
      "text/plain": [
       "array([255,  66,  49,  36,  32,  20])"
      ]
     },
     "execution_count": 240,
     "metadata": {},
     "output_type": "execute_result"
    }
   ],
   "source": [
    "epochs\n"
   ]
  },
  {
   "cell_type": "code",
   "execution_count": 258,
   "metadata": {},
   "outputs": [
    {
     "data": {
      "image/png": "[encoded data removed]",
      "text/plain": [
       "<Figure size 432x288 with 1 Axes>"
      ]
     },
     "metadata": {
      "needs_background": "light"
     },
     "output_type": "display_data"
    }
   ],
   "source": [
    "plt.plot(hidden, epochs1,'r', label='0.1 tolerance')\n",
    "plt.plot(hidden, epochs2, 'b', label='0.2 tolerance')\n",
    "pylab.legend(loc='upper right')\n",
    "plt.xlabel('number of hidden layer units')\n",
    "plt.ylabel('number of epochs')\n",
    "plt.grid()"
   ]
  },
  {
   "cell_type": "code",
   "execution_count": null,
   "metadata": {},
   "outputs": [],
   "source": []
  }
 ],
 "metadata": {
  "kernelspec": {
   "display_name": "Python 3",
   "language": "python",
   "name": "python3"
  },
  "language_info": {
   "codemirror_mode": {
    "name": "ipython",
    "version": 3
   },
   "file_extension": ".py",
   "mimetype": "text/x-python",
   "name": "python",
   "nbconvert_exporter": "python",
   "pygments_lexer": "ipython3",
   "version": "3.7.1"
  }
 },
 "nbformat": 4,
 "nbformat_minor": 2
}
